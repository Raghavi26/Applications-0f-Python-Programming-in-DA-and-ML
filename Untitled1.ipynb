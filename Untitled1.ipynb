{
  "nbformat": 4,
  "nbformat_minor": 0,
  "metadata": {
    "colab": {
      "name": "Untitled1.ipynb",
      "provenance": [],
      "authorship_tag": "ABX9TyMIH5kfK+WGJ6di32H++D99",
      "include_colab_link": true
    },
    "kernelspec": {
      "name": "python3",
      "display_name": "Python 3"
    }
  },
  "cells": [
    {
      "cell_type": "markdown",
      "metadata": {
        "id": "view-in-github",
        "colab_type": "text"
      },
      "source": [
        "<a href=\"https://colab.research.google.com/github/Raghavi26/Applications-0f-Python-Programming-in-DA-and-ML/blob/master/Untitled1.ipynb\" target=\"_parent\"><img src=\"https://colab.research.google.com/assets/colab-badge.svg\" alt=\"Open In Colab\"/></a>"
      ]
    },
    {
      "cell_type": "code",
      "metadata": {
        "id": "GBssfIBZQGXa",
        "colab_type": "code",
        "outputId": "904c295d-eb04-4d43-dad1-d2116e33c141",
        "colab": {
          "base_uri": "https://localhost:8080/",
          "height": 68
        }
      },
      "source": [
        "a=int(input(\"enter the 1st no\"))\n",
        "b=int(input(\"enter the 2nd no\"))\n",
        "c=int(input(\"enter the 3rd no\"))"
      ],
      "execution_count": 0,
      "outputs": [
        {
          "output_type": "stream",
          "text": [
            "enter the 1st no56\n",
            "enter the 2nd no87\n",
            "enter the 3rd no45\n"
          ],
          "name": "stdout"
        }
      ]
    },
    {
      "cell_type": "code",
      "metadata": {
        "id": "XD5bp_T9SAKA",
        "colab_type": "code",
        "outputId": "1f2995dd-2c7f-405f-a854-1646ad899886",
        "colab": {
          "base_uri": "https://localhost:8080/",
          "height": 34
        }
      },
      "source": [
        "\n",
        "# number in a list \n",
        "  \n",
        "# list of numbers \n",
        "list1 = [10, 20, 67, 45, 2] \n",
        "  \n",
        "# sorting the list \n",
        "list1.sort() \n",
        "  \n",
        "# printing the first element \n",
        "print(\"Smallest element is:\", *list1[:1]) \n"
      ],
      "execution_count": 0,
      "outputs": [
        {
          "output_type": "stream",
          "text": [
            "Smallest element is: 2\n"
          ],
          "name": "stdout"
        }
      ]
    }
  ]
}